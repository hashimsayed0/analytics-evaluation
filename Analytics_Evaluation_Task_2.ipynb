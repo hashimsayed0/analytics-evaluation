{
  "nbformat": 4,
  "nbformat_minor": 0,
  "metadata": {
    "colab": {
      "name": "Analytics Evaluation - Task 2.ipynb",
      "provenance": [],
      "collapsed_sections": [],
      "authorship_tag": "ABX9TyOlFBwgeCA/Zu6WfOVbsrK+",
      "include_colab_link": true
    },
    "kernelspec": {
      "name": "python3",
      "display_name": "Python 3"
    }
  },
  "cells": [
    {
      "cell_type": "markdown",
      "metadata": {
        "id": "view-in-github",
        "colab_type": "text"
      },
      "source": [
        "<a href=\"https://colab.research.google.com/github/hashimsayed0/analytics-evaluation/blob/master/Analytics_Evaluation_Task_2.ipynb\" target=\"_parent\"><img src=\"https://colab.research.google.com/assets/colab-badge.svg\" alt=\"Open In Colab\"/></a>"
      ]
    },
    {
      "cell_type": "markdown",
      "metadata": {
        "id": "Dg8uUYdj7KDK",
        "colab_type": "text"
      },
      "source": [
        "#Question 2\n",
        "\n",
        "A team of plantation planners are concerned about the yield of oil palm trees, which seems to\n",
        "fluctuate. They have collected a set of data and needed help in analysing on how external\n",
        "factors influence fresh fruit bunch (FFB) yield. Some experts are of opinion that the flowering of\n",
        "oil palm tree determines the FFB yield, and are linked to the external factors. Perform the\n",
        "analysis, which requires some study on the background of oil palm tree physiology.\n",
        "\n"
      ]
    },
    {
      "cell_type": "markdown",
      "metadata": {
        "id": "hd5H2Gkf-nBz",
        "colab_type": "text"
      },
      "source": [
        "#Solution\n",
        "\n",
        "This is a feature selection problem as we're interested in finding out which variable contributes most in determining the value of output variable, FFB_Yield"
      ]
    },
    {
      "cell_type": "markdown",
      "metadata": {
        "id": "9Or3Cxrt7i4c",
        "colab_type": "text"
      },
      "source": [
        "#Import the libraries"
      ]
    },
    {
      "cell_type": "code",
      "metadata": {
        "id": "LE_T2pnE6_iJ",
        "colab_type": "code",
        "colab": {}
      },
      "source": [
        "import pandas as pd\n",
        "import numpy as np\n",
        "import matplotlib.pyplot as plt\n",
        "import seaborn as sns\n",
        "from sklearn.ensemble import RandomForestRegressor"
      ],
      "execution_count": 0,
      "outputs": []
    },
    {
      "cell_type": "markdown",
      "metadata": {
        "id": "69n2z8J5-_b7",
        "colab_type": "text"
      },
      "source": [
        "# Import the dataset and explore it"
      ]
    },
    {
      "cell_type": "code",
      "metadata": {
        "id": "BDegMqe--9JU",
        "colab_type": "code",
        "colab": {}
      },
      "source": [
        "data = pd.read_csv('https://raw.githubusercontent.com/hashimsayed0/analytics-evaluation/master/palm_ffb.csv')"
      ],
      "execution_count": 0,
      "outputs": []
    },
    {
      "cell_type": "code",
      "metadata": {
        "id": "uJJK1KYnj7ja",
        "colab_type": "code",
        "colab": {
          "base_uri": "https://localhost:8080/",
          "height": 297
        },
        "outputId": "366897e5-ad53-4abe-8333-005717ac4987"
      },
      "source": [
        "data.describe()"
      ],
      "execution_count": 5,
      "outputs": [
        {
          "output_type": "execute_result",
          "data": {
            "text/html": [
              "<div>\n",
              "<style scoped>\n",
              "    .dataframe tbody tr th:only-of-type {\n",
              "        vertical-align: middle;\n",
              "    }\n",
              "\n",
              "    .dataframe tbody tr th {\n",
              "        vertical-align: top;\n",
              "    }\n",
              "\n",
              "    .dataframe thead th {\n",
              "        text-align: right;\n",
              "    }\n",
              "</style>\n",
              "<table border=\"1\" class=\"dataframe\">\n",
              "  <thead>\n",
              "    <tr style=\"text-align: right;\">\n",
              "      <th></th>\n",
              "      <th>SoilMoisture</th>\n",
              "      <th>Average_Temp</th>\n",
              "      <th>Min_Temp</th>\n",
              "      <th>Max_Temp</th>\n",
              "      <th>Precipitation</th>\n",
              "      <th>Working_days</th>\n",
              "      <th>HA_Harvested</th>\n",
              "      <th>FFB_Yield</th>\n",
              "    </tr>\n",
              "  </thead>\n",
              "  <tbody>\n",
              "    <tr>\n",
              "      <th>count</th>\n",
              "      <td>130.000000</td>\n",
              "      <td>130.000000</td>\n",
              "      <td>130.000000</td>\n",
              "      <td>130.000000</td>\n",
              "      <td>130.000000</td>\n",
              "      <td>130.000000</td>\n",
              "      <td>130.000000</td>\n",
              "      <td>130.000000</td>\n",
              "    </tr>\n",
              "    <tr>\n",
              "      <th>mean</th>\n",
              "      <td>527.646923</td>\n",
              "      <td>26.849918</td>\n",
              "      <td>21.379231</td>\n",
              "      <td>33.851538</td>\n",
              "      <td>188.980769</td>\n",
              "      <td>24.753846</td>\n",
              "      <td>793404.491565</td>\n",
              "      <td>1.602231</td>\n",
              "    </tr>\n",
              "    <tr>\n",
              "      <th>std</th>\n",
              "      <td>57.367844</td>\n",
              "      <td>0.651413</td>\n",
              "      <td>0.688971</td>\n",
              "      <td>1.079638</td>\n",
              "      <td>80.237210</td>\n",
              "      <td>1.239289</td>\n",
              "      <td>34440.893854</td>\n",
              "      <td>0.281751</td>\n",
              "    </tr>\n",
              "    <tr>\n",
              "      <th>min</th>\n",
              "      <td>380.700000</td>\n",
              "      <td>25.158065</td>\n",
              "      <td>18.900000</td>\n",
              "      <td>31.100000</td>\n",
              "      <td>2.000000</td>\n",
              "      <td>21.000000</td>\n",
              "      <td>683431.944400</td>\n",
              "      <td>1.080000</td>\n",
              "    </tr>\n",
              "    <tr>\n",
              "      <th>25%</th>\n",
              "      <td>488.625000</td>\n",
              "      <td>26.442285</td>\n",
              "      <td>21.000000</td>\n",
              "      <td>33.100000</td>\n",
              "      <td>140.300000</td>\n",
              "      <td>24.000000</td>\n",
              "      <td>768966.949100</td>\n",
              "      <td>1.390000</td>\n",
              "    </tr>\n",
              "    <tr>\n",
              "      <th>50%</th>\n",
              "      <td>538.300000</td>\n",
              "      <td>26.930645</td>\n",
              "      <td>21.500000</td>\n",
              "      <td>33.900000</td>\n",
              "      <td>182.150000</td>\n",
              "      <td>25.000000</td>\n",
              "      <td>790036.158050</td>\n",
              "      <td>1.585000</td>\n",
              "    </tr>\n",
              "    <tr>\n",
              "      <th>75%</th>\n",
              "      <td>571.025000</td>\n",
              "      <td>27.270726</td>\n",
              "      <td>21.800000</td>\n",
              "      <td>34.600000</td>\n",
              "      <td>226.100000</td>\n",
              "      <td>26.000000</td>\n",
              "      <td>821989.235250</td>\n",
              "      <td>1.807500</td>\n",
              "    </tr>\n",
              "    <tr>\n",
              "      <th>max</th>\n",
              "      <td>647.300000</td>\n",
              "      <td>28.580000</td>\n",
              "      <td>22.600000</td>\n",
              "      <td>36.000000</td>\n",
              "      <td>496.100000</td>\n",
              "      <td>27.000000</td>\n",
              "      <td>882254.225400</td>\n",
              "      <td>2.270000</td>\n",
              "    </tr>\n",
              "  </tbody>\n",
              "</table>\n",
              "</div>"
            ],
            "text/plain": [
              "       SoilMoisture  Average_Temp  ...   HA_Harvested   FFB_Yield\n",
              "count    130.000000    130.000000  ...     130.000000  130.000000\n",
              "mean     527.646923     26.849918  ...  793404.491565    1.602231\n",
              "std       57.367844      0.651413  ...   34440.893854    0.281751\n",
              "min      380.700000     25.158065  ...  683431.944400    1.080000\n",
              "25%      488.625000     26.442285  ...  768966.949100    1.390000\n",
              "50%      538.300000     26.930645  ...  790036.158050    1.585000\n",
              "75%      571.025000     27.270726  ...  821989.235250    1.807500\n",
              "max      647.300000     28.580000  ...  882254.225400    2.270000\n",
              "\n",
              "[8 rows x 8 columns]"
            ]
          },
          "metadata": {
            "tags": []
          },
          "execution_count": 5
        }
      ]
    },
    {
      "cell_type": "code",
      "metadata": {
        "id": "kaowrs9DnyRO",
        "colab_type": "code",
        "colab": {
          "base_uri": "https://localhost:8080/",
          "height": 283
        },
        "outputId": "293855f1-d150-40b5-fba8-62e4f543d6c6"
      },
      "source": [
        "data.info()"
      ],
      "execution_count": 6,
      "outputs": [
        {
          "output_type": "stream",
          "text": [
            "<class 'pandas.core.frame.DataFrame'>\n",
            "RangeIndex: 130 entries, 0 to 129\n",
            "Data columns (total 9 columns):\n",
            "Date             130 non-null object\n",
            "SoilMoisture     130 non-null float64\n",
            "Average_Temp     130 non-null float64\n",
            "Min_Temp         130 non-null float64\n",
            "Max_Temp         130 non-null float64\n",
            "Precipitation    130 non-null float64\n",
            "Working_days     130 non-null int64\n",
            "HA_Harvested     130 non-null float64\n",
            "FFB_Yield        130 non-null float64\n",
            "dtypes: float64(7), int64(1), object(1)\n",
            "memory usage: 9.3+ KB\n"
          ],
          "name": "stdout"
        }
      ]
    },
    {
      "cell_type": "code",
      "metadata": {
        "id": "1y88oH9Cn1o6",
        "colab_type": "code",
        "colab": {
          "base_uri": "https://localhost:8080/",
          "height": 207
        },
        "outputId": "fca28db0-ae0c-413b-c392-4fbf10cd4e59"
      },
      "source": [
        "data.isnull().any()"
      ],
      "execution_count": 7,
      "outputs": [
        {
          "output_type": "execute_result",
          "data": {
            "text/plain": [
              "Date             False\n",
              "SoilMoisture     False\n",
              "Average_Temp     False\n",
              "Min_Temp         False\n",
              "Max_Temp         False\n",
              "Precipitation    False\n",
              "Working_days     False\n",
              "HA_Harvested     False\n",
              "FFB_Yield        False\n",
              "dtype: bool"
            ]
          },
          "metadata": {
            "tags": []
          },
          "execution_count": 7
        }
      ]
    },
    {
      "cell_type": "markdown",
      "metadata": {
        "id": "HUEE4QB0oMPb",
        "colab_type": "text"
      },
      "source": [
        "# Analysing the dsitributions"
      ]
    },
    {
      "cell_type": "code",
      "metadata": {
        "id": "3AqbsM8dn3r-",
        "colab_type": "code",
        "colab": {
          "base_uri": "https://localhost:8080/",
          "height": 1000
        },
        "outputId": "d3e090e5-d2f0-4ec5-ce76-9f5431dcd19c"
      },
      "source": [
        "# list of numerical variables\n",
        "num_vars = [var for var in data.columns if data[var].dtypes != 'O']\n",
        "\n",
        "print('Number of numerical variables: ', len(num_vars))\n",
        "\n",
        "# visualise the numerical variables\n",
        "data[num_vars].head()\n",
        "\n",
        "# Let's go ahead and analyse the distributions of these variables\n",
        "def analyse_continous(df, var):\n",
        "    df = df.copy()\n",
        "    df[var].hist(bins=20)\n",
        "    plt.ylabel('count')\n",
        "    plt.xlabel(var)\n",
        "    plt.title(var)\n",
        "    plt.show()\n",
        "    \n",
        "for var in num_vars:\n",
        "    analyse_continous(data, var)"
      ],
      "execution_count": 8,
      "outputs": [
        {
          "output_type": "stream",
          "text": [
            "Number of numerical variables:  8\n"
          ],
          "name": "stdout"
        },
        {
          "output_type": "display_data",
          "data": {
            "image/png": "[encoded data removed]",
            "text/plain": [
              "<Figure size 432x288 with 1 Axes>"
            ]
          },
          "metadata": {
            "tags": []
          }
        },
        {
          "output_type": "display_data",
          "data": {
            "image/png": "[encoded data removed]",
            "text/plain": [
              "<Figure size 432x288 with 1 Axes>"
            ]
          },
          "metadata": {
            "tags": []
          }
        },
        {
          "output_type": "display_data",
          "data": {
            "image/png": "[encoded data removed]",
            "text/plain": [
              "<Figure size 432x288 with 1 Axes>"
            ]
          },
          "metadata": {
            "tags": []
          }
        },
        {
          "output_type": "display_data",
          "data": {
            "image/png": "[encoded data removed]",
            "text/plain": [
              "<Figure size 432x288 with 1 Axes>"
            ]
          },
          "metadata": {
            "tags": []
          }
        },
        {
          "output_type": "display_data",
          "data": {
            "image/png": "[encoded data removed]",
            "text/plain": [
              "<Figure size 432x288 with 1 Axes>"
            ]
          },
          "metadata": {
            "tags": []
          }
        },
        {
          "output_type": "display_data",
          "data": {
            "image/png": "[encoded data removed]",
            "text/plain": [
              "<Figure size 432x288 with 1 Axes>"
            ]
          },
          "metadata": {
            "tags": []
          }
        },
        {
          "output_type": "display_data",
          "data": {
            "image/png": "[encoded data removed]",
            "text/plain": [
              "<Figure size 432x288 with 1 Axes>"
            ]
          },
          "metadata": {
            "tags": []
          }
        },
        {
          "output_type": "display_data",
          "data": {
            "image/png": "[encoded data removed]",
            "text/plain": [
              "<Figure size 432x288 with 1 Axes>"
            ]
          },
          "metadata": {
            "tags": []
          }
        }
      ]
    },
    {
      "cell_type": "markdown",
      "metadata": {
        "id": "q9L4OaTUolOV",
        "colab_type": "text"
      },
      "source": [
        "Summary\n",
        "\n",
        "min_temp is slightly skewed. Other features are normally distributed"
      ]
    },
    {
      "cell_type": "markdown",
      "metadata": {
        "id": "lmSgIYiNpayU",
        "colab_type": "text"
      },
      "source": [
        "# Finding correlation between variables"
      ]
    },
    {
      "cell_type": "code",
      "metadata": {
        "id": "K8A9wICyok-7",
        "colab_type": "code",
        "colab": {
          "base_uri": "https://localhost:8080/",
          "height": 551
        },
        "outputId": "4f9dfa26-5ff7-437b-a6da-b83a9fe95213"
      },
      "source": [
        "#Using Pearson Correlation\n",
        "sns.heatmap(data.corr(),annot=True,cmap='RdYlGn',linewidths=1) #data.corr()-->correlation matrix\n",
        "fig=plt.gcf()\n",
        "fig.set_size_inches(12,8)\n",
        "plt.show()"
      ],
      "execution_count": 9,
      "outputs": [
        {
          "output_type": "display_data",
          "data": {
            "image/png": "[encoded data removed]",
            "text/plain": [
              "<Figure size 864x576 with 2 Axes>"
            ]
          },
          "metadata": {
            "tags": []
          }
        }
      ]
    },
    {
      "cell_type": "markdown",
      "metadata": {
        "id": "C-ktTMOMpo2i",
        "colab_type": "text"
      },
      "source": [
        "## Summary\n",
        "\n",
        "Soil Moisture shows positive correlation with Precipitation and negative correlation with Avergae Temp and Mx Temp\n",
        "\n"
      ]
    },
    {
      "cell_type": "code",
      "metadata": {
        "id": "xU3kPrgaoZ3q",
        "colab_type": "code",
        "colab": {
          "base_uri": "https://localhost:8080/",
          "height": 204
        },
        "outputId": "3f788bf5-0525-4356-ff5e-5db968f33dc9"
      },
      "source": [
        "data.head()"
      ],
      "execution_count": 10,
      "outputs": [
        {
          "output_type": "execute_result",
          "data": {
            "text/html": [
              "<div>\n",
              "<style scoped>\n",
              "    .dataframe tbody tr th:only-of-type {\n",
              "        vertical-align: middle;\n",
              "    }\n",
              "\n",
              "    .dataframe tbody tr th {\n",
              "        vertical-align: top;\n",
              "    }\n",
              "\n",
              "    .dataframe thead th {\n",
              "        text-align: right;\n",
              "    }\n",
              "</style>\n",
              "<table border=\"1\" class=\"dataframe\">\n",
              "  <thead>\n",
              "    <tr style=\"text-align: right;\">\n",
              "      <th></th>\n",
              "      <th>Date</th>\n",
              "      <th>SoilMoisture</th>\n",
              "      <th>Average_Temp</th>\n",
              "      <th>Min_Temp</th>\n",
              "      <th>Max_Temp</th>\n",
              "      <th>Precipitation</th>\n",
              "      <th>Working_days</th>\n",
              "      <th>HA_Harvested</th>\n",
              "      <th>FFB_Yield</th>\n",
              "    </tr>\n",
              "  </thead>\n",
              "  <tbody>\n",
              "    <tr>\n",
              "      <th>0</th>\n",
              "      <td>01.01.2008</td>\n",
              "      <td>616.4</td>\n",
              "      <td>25.306452</td>\n",
              "      <td>21.3</td>\n",
              "      <td>32.2</td>\n",
              "      <td>184.4</td>\n",
              "      <td>25</td>\n",
              "      <td>777778.3951</td>\n",
              "      <td>1.62</td>\n",
              "    </tr>\n",
              "    <tr>\n",
              "      <th>1</th>\n",
              "      <td>01.02.2008</td>\n",
              "      <td>568.9</td>\n",
              "      <td>26.165517</td>\n",
              "      <td>20.9</td>\n",
              "      <td>35.1</td>\n",
              "      <td>140.2</td>\n",
              "      <td>23</td>\n",
              "      <td>767988.2759</td>\n",
              "      <td>1.45</td>\n",
              "    </tr>\n",
              "    <tr>\n",
              "      <th>2</th>\n",
              "      <td>01.03.2008</td>\n",
              "      <td>577.6</td>\n",
              "      <td>25.448387</td>\n",
              "      <td>21.3</td>\n",
              "      <td>32.9</td>\n",
              "      <td>280.4</td>\n",
              "      <td>25</td>\n",
              "      <td>783951.9231</td>\n",
              "      <td>1.56</td>\n",
              "    </tr>\n",
              "    <tr>\n",
              "      <th>3</th>\n",
              "      <td>01.04.2008</td>\n",
              "      <td>581.1</td>\n",
              "      <td>26.903333</td>\n",
              "      <td>20.6</td>\n",
              "      <td>34.8</td>\n",
              "      <td>173.3</td>\n",
              "      <td>25</td>\n",
              "      <td>788987.0504</td>\n",
              "      <td>1.39</td>\n",
              "    </tr>\n",
              "    <tr>\n",
              "      <th>4</th>\n",
              "      <td>01.05.2008</td>\n",
              "      <td>545.4</td>\n",
              "      <td>27.241935</td>\n",
              "      <td>20.9</td>\n",
              "      <td>35.0</td>\n",
              "      <td>140.6</td>\n",
              "      <td>25</td>\n",
              "      <td>813659.7222</td>\n",
              "      <td>1.44</td>\n",
              "    </tr>\n",
              "  </tbody>\n",
              "</table>\n",
              "</div>"
            ],
            "text/plain": [
              "         Date  SoilMoisture  ...  HA_Harvested  FFB_Yield\n",
              "0  01.01.2008         616.4  ...   777778.3951       1.62\n",
              "1  01.02.2008         568.9  ...   767988.2759       1.45\n",
              "2  01.03.2008         577.6  ...   783951.9231       1.56\n",
              "3  01.04.2008         581.1  ...   788987.0504       1.39\n",
              "4  01.05.2008         545.4  ...   813659.7222       1.44\n",
              "\n",
              "[5 rows x 9 columns]"
            ]
          },
          "metadata": {
            "tags": []
          },
          "execution_count": 10
        }
      ]
    },
    {
      "cell_type": "markdown",
      "metadata": {
        "id": "jRrULhlGsV3g",
        "colab_type": "text"
      },
      "source": [
        "## Choosing best features using feature selector"
      ]
    },
    {
      "cell_type": "code",
      "metadata": {
        "id": "Il0WPbUwqwCq",
        "colab_type": "code",
        "colab": {}
      },
      "source": [
        "from mlxtend.feature_selection import ExhaustiveFeatureSelector as efs"
      ],
      "execution_count": 0,
      "outputs": []
    },
    {
      "cell_type": "code",
      "metadata": {
        "id": "8WU5_oX5s-8A",
        "colab_type": "code",
        "colab": {}
      },
      "source": [
        "X = data.drop(['FFB_Yield','Date'],axis=1)\n",
        "y = data.FFB_Yield"
      ],
      "execution_count": 0,
      "outputs": []
    },
    {
      "cell_type": "code",
      "metadata": {
        "id": "VT34zbp3qxWb",
        "colab_type": "code",
        "colab": {
          "base_uri": "https://localhost:8080/",
          "height": 435
        },
        "outputId": "f2e7e2b6-c733-4db4-c98c-f838eb4224ac"
      },
      "source": [
        "emodel = efs(RandomForestRegressor(),min_features=1,max_features=7,scoring='r2',n_jobs=-1)\n",
        "miniData = X[X.columns]\n",
        "\n",
        "emodel.fit(np.array(miniData),y)"
      ],
      "execution_count": 17,
      "outputs": [
        {
          "output_type": "stream",
          "text": [
            "Features: 127/127"
          ],
          "name": "stderr"
        },
        {
          "output_type": "execute_result",
          "data": {
            "text/plain": [
              "ExhaustiveFeatureSelector(clone_estimator=True, cv=5,\n",
              "                          estimator=RandomForestRegressor(bootstrap=True,\n",
              "                                                          ccp_alpha=0.0,\n",
              "                                                          criterion='mse',\n",
              "                                                          max_depth=None,\n",
              "                                                          max_features='auto',\n",
              "                                                          max_leaf_nodes=None,\n",
              "                                                          max_samples=None,\n",
              "                                                          min_impurity_decrease=0.0,\n",
              "                                                          min_impurity_split=None,\n",
              "                                                          min_samples_leaf=1,\n",
              "                                                          min_samples_split=2,\n",
              "                                                          min_weight_fraction_leaf=0.0,\n",
              "                                                          n_estimators=100,\n",
              "                                                          n_jobs=None,\n",
              "                                                          oob_score=False,\n",
              "                                                          random_state=None,\n",
              "                                                          verbose=0,\n",
              "                                                          warm_start=False),\n",
              "                          max_features=7, min_features=1, n_jobs=-1,\n",
              "                          pre_dispatch='2*n_jobs', print_progress=True,\n",
              "                          scoring='r2')"
            ]
          },
          "metadata": {
            "tags": []
          },
          "execution_count": 17
        }
      ]
    },
    {
      "cell_type": "code",
      "metadata": {
        "id": "_T5G4GSCtibU",
        "colab_type": "code",
        "colab": {
          "base_uri": "https://localhost:8080/",
          "height": 36
        },
        "outputId": "9eed139f-3092-46e0-a643-62fcb62f97bf"
      },
      "source": [
        "#Get the selected feature index\n",
        "emodel.best_idx_"
      ],
      "execution_count": 18,
      "outputs": [
        {
          "output_type": "execute_result",
          "data": {
            "text/plain": [
              "(0, 2, 4, 5, 6)"
            ]
          },
          "metadata": {
            "tags": []
          },
          "execution_count": 18
        }
      ]
    },
    {
      "cell_type": "code",
      "metadata": {
        "id": "bBxA5LOPtnbp",
        "colab_type": "code",
        "colab": {
          "base_uri": "https://localhost:8080/",
          "height": 74
        },
        "outputId": "14282248-19a8-4416-aa00-2efb9aedd7dc"
      },
      "source": [
        "#Get the best features\n",
        "miniData.columns[list(emodel.best_idx_)]"
      ],
      "execution_count": 21,
      "outputs": [
        {
          "output_type": "execute_result",
          "data": {
            "text/plain": [
              "Index(['SoilMoisture', 'Min_Temp', 'Precipitation', 'Working_days',\n",
              "       'HA_Harvested'],\n",
              "      dtype='object')"
            ]
          },
          "metadata": {
            "tags": []
          },
          "execution_count": 21
        }
      ]
    },
    {
      "cell_type": "markdown",
      "metadata": {
        "id": "2Pk76d6Gt6LC",
        "colab_type": "text"
      },
      "source": [
        "#Summary\n",
        "\n",
        "Most dominating features are Soil Moisture, Min Temp, Precipitation, Working days and HA Harvested.\n",
        "\n",
        "<br> These variables are good enough for predicting the value of FFB Yield, i.e, these features provide adequate information to predict how much the FFB yield would be for a particular date."
      ]
    }
  ]
}