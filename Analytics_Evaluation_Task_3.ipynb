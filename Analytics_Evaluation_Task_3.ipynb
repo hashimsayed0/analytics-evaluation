{
  "nbformat": 4,
  "nbformat_minor": 0,
  "metadata": {
    "colab": {
      "name": "Analytics Evaluation Task 3.ipynb",
      "provenance": [],
      "collapsed_sections": [],
      "authorship_tag": "ABX9TyO+oLqYnDNSxCmuk6Bk+80h",
      "include_colab_link": true
    },
    "kernelspec": {
      "name": "python3",
      "display_name": "Python 3"
    }
  },
  "cells": [
    {
      "cell_type": "markdown",
      "metadata": {
        "id": "view-in-github",
        "colab_type": "text"
      },
      "source": [
        "<a href=\"https://colab.research.google.com/github/hashimsayed0/analytics-evaluation/blob/master/Analytics_Evaluation_Task_3.ipynb\" target=\"_parent\"><img src=\"https://colab.research.google.com/assets/colab-badge.svg\" alt=\"Open In Colab\"/></a>"
      ]
    },
    {
      "cell_type": "markdown",
      "metadata": {
        "id": "GS5B5smxxqV4",
        "colab_type": "text"
      },
      "source": [
        "# Question 3\n",
        "\n",
        "Feed the following paragraph into your favourite data analytics tool, and answer the following;<br>\n",
        "a. What is the probability of the word “data” occurring in each line ?\n",
        "<br>b. What is the distribution of distinct word counts across all the lines ?<br>\n",
        "c. What is the probability of the word “analytics” occurring after the word “data” ?\n",
        "<br><br>As a term, data analytics predominantly refers to an assortment of applications, from basic business\n",
        "intelligence (BI), reporting and online analytical processing (OLAP) to various forms of advanced\n",
        "analytics. In that sense, it's similar in nature to business analytics, another umbrella term for\n",
        "approaches to analyzing data -- with the difference that the latter is oriented to business uses, while\n",
        "data analytics has a broader focus. The expansive view of the term isn't universal, though: In some\n",
        "cases, people use data analytics specifically to mean advanced analytics, treating BI as a separate\n",
        "category. Data analytics initiatives can help businesses increase revenues, improve operational\n",
        "efficiency, optimize marketing campaigns and customer service efforts, respond more quickly to\n",
        "emerging market trends and gain a competitive edge over rivals -- all with the ultimate goal of\n",
        "boosting business performance. Depending on the particular application, the data that's analyzed\n",
        "can consist of either historical records or new information that has been processed for real-time\n",
        "analytics uses. In addition, it can come from a mix of internal systems and external data sources. At\n",
        "a high level, data analytics methodologies include exploratory data analysis (EDA), which aims to find\n",
        "patterns and relationships in data, and confirmatory data analysis (CDA), which applies statistical\n",
        "techniques to determine whether hypotheses about a data set are true or false. EDA is often\n",
        "compared to detective work, while CDA is akin to the work of a judge or jury during a court trial -- a\n",
        "distinction first drawn by statistician John W. Tukey in his 1977 book Exploratory Data Analysis. Data\n",
        "analytics can also be separated into quantitative data analysis and qualitative data analysis. The\n",
        "former involves analysis of numerical data with quantifiable variables that can be compared or\n",
        "measured statistically. The qualitative approach is more interpretive -- it focuses on understanding\n",
        "the content of non-numerical data like text, images, audio and video, including common phrases,\n",
        "themes and points of view."
      ]
    },
    {
      "cell_type": "code",
      "metadata": {
        "id": "f5BM2JZfvYxT",
        "colab_type": "code",
        "colab": {
          "base_uri": "https://localhost:8080/",
          "height": 454
        },
        "outputId": "5e3b4340-2072-4644-dbb6-a7f50cc52a01"
      },
      "source": [
        "given_string = \"\"\"As a term, data analytics predominantly refers to an assortment of applications, from basic \\nbusiness intelligence (BI), reporting and online analytical processing (OLAP) to various forms of \\nadvanced analytics. In that sense, it's similar in nature to business analytics, another umbrella \\nterm for approaches to analyzing data -- with the difference that the latter is oriented to \\nbusiness uses, while data analytics has a broader focus. The expansive view of the term isn't \\nuniversal, though: In some cases, people use data analytics specifically to mean advanced \\nanalytics, treating BI as a separate category. Data analytics initiatives can help businesses \\nincrease revenues, improve operational efficiency, optimize marketing campaigns and customer \\nservice efforts, respond more quickly to emerging market trends and gain a competitive edge \\nover rivals -- all with the ultimate goal of boosting business performance. Depending on the \\nparticular application, the data that's analyzed can consist of either historical records or new \\ninformation that has been processed for real-time analytics uses. In addition, it can come from a \\nmix of internal systems and external data sources. At a high level, data analytics methodologies \\ninclude exploratory data analysis (EDA), which aims to find patterns and relationships in data, \\nand confirmatory data analysis (CDA), which applies statistical techniques to determine whether \\nhypotheses about a data set are true or false. EDA is often compared to detective work, while \\nCDA is akin to the work of a judge or jury during a court trial -- a distinction first drawn by \\nstatistician John W. Tukey in his 1977 book Exploratory Data Analysis. Data analytics can also \\nbe separated into quantitative data analysis and qualitative data analysis. The former involves \\nanalysis of numerical data with quantifiable variables that can be compared or measured \\nstatistically. The qualitative approach is more interpretive -- it focuses on understanding the \\ncontent of non-numerical data like text, images, audio and video, including common phrases, \\nthemes and points of view.\"\"\"\n",
        "print(given_string)"
      ],
      "execution_count": 2,
      "outputs": [
        {
          "output_type": "stream",
          "text": [
            "As a term, data analytics predominantly refers to an assortment of applications, from basic \n",
            "business intelligence (BI), reporting and online analytical processing (OLAP) to various forms of \n",
            "advanced analytics. In that sense, it's similar in nature to business analytics, another umbrella \n",
            "term for approaches to analyzing data -- with the difference that the latter is oriented to \n",
            "business uses, while data analytics has a broader focus. The expansive view of the term isn't \n",
            "universal, though: In some cases, people use data analytics specifically to mean advanced \n",
            "analytics, treating BI as a separate category. Data analytics initiatives can help businesses \n",
            "increase revenues, improve operational efficiency, optimize marketing campaigns and customer \n",
            "service efforts, respond more quickly to emerging market trends and gain a competitive edge \n",
            "over rivals -- all with the ultimate goal of boosting business performance. Depending on the \n",
            "particular application, the data that's analyzed can consist of either historical records or new \n",
            "information that has been processed for real-time analytics uses. In addition, it can come from a \n",
            "mix of internal systems and external data sources. At a high level, data analytics methodologies \n",
            "include exploratory data analysis (EDA), which aims to find patterns and relationships in data, \n",
            "and confirmatory data analysis (CDA), which applies statistical techniques to determine whether \n",
            "hypotheses about a data set are true or false. EDA is often compared to detective work, while \n",
            "CDA is akin to the work of a judge or jury during a court trial -- a distinction first drawn by \n",
            "statistician John W. Tukey in his 1977 book Exploratory Data Analysis. Data analytics can also \n",
            "be separated into quantitative data analysis and qualitative data analysis. The former involves \n",
            "analysis of numerical data with quantifiable variables that can be compared or measured \n",
            "statistically. The qualitative approach is more interpretive -- it focuses on understanding the \n",
            "content of non-numerical data like text, images, audio and video, including common phrases, \n",
            "themes and points of view.\n"
          ],
          "name": "stdout"
        }
      ]
    },
    {
      "cell_type": "code",
      "metadata": {
        "id": "quchP8_iyFI_",
        "colab_type": "code",
        "colab": {}
      },
      "source": [
        "given_string = given_string.lower()"
      ],
      "execution_count": 0,
      "outputs": []
    },
    {
      "cell_type": "code",
      "metadata": {
        "id": "hGMAm_wYyWXj",
        "colab_type": "code",
        "colab": {}
      },
      "source": [
        "line_list = given_string.splitlines()"
      ],
      "execution_count": 0,
      "outputs": []
    },
    {
      "cell_type": "code",
      "metadata": {
        "id": "LTvV1zdNzno1",
        "colab_type": "code",
        "colab": {
          "base_uri": "https://localhost:8080/",
          "height": 55
        },
        "outputId": "7d8d10c9-71f8-4904-fab7-4070d9b0c6c1"
      },
      "source": [
        "! pip install nltk"
      ],
      "execution_count": 9,
      "outputs": [
        {
          "output_type": "stream",
          "text": [
            "Requirement already satisfied: nltk in /usr/local/lib/python3.6/dist-packages (3.2.5)\n",
            "Requirement already satisfied: six in /usr/local/lib/python3.6/dist-packages (from nltk) (1.12.0)\n"
          ],
          "name": "stdout"
        }
      ]
    },
    {
      "cell_type": "code",
      "metadata": {
        "id": "HqRO2utvyb5K",
        "colab_type": "code",
        "colab": {
          "base_uri": "https://localhost:8080/",
          "height": 36
        },
        "outputId": "2b31cdd8-c79b-4dd9-ea7a-d0b6f21359a8"
      },
      "source": [
        "import nltk\n",
        "tokenized_word = []\n",
        "for x in range(len(line_list)):\n",
        "  tokenized_word.append(word_tokenize(line_list[x]))\n",
        "print(len(tokenized_word))"
      ],
      "execution_count": 25,
      "outputs": [
        {
          "output_type": "stream",
          "text": [
            "23\n"
          ],
          "name": "stdout"
        }
      ]
    },
    {
      "cell_type": "markdown",
      "metadata": {
        "id": "azZLPFef3Dw7",
        "colab_type": "text"
      },
      "source": [
        "##a. What is the probability of the word “data” occurring in each line ?"
      ]
    },
    {
      "cell_type": "code",
      "metadata": {
        "id": "09B4iG7_zeej",
        "colab_type": "code",
        "colab": {
          "base_uri": "https://localhost:8080/",
          "height": 454
        },
        "outputId": "92a76cb3-2a15-4f7b-9671-6d612321d0ea"
      },
      "source": [
        "from nltk.probability import FreqDist\n",
        "fdist = []\n",
        "for x in range(len(tokenized_word)):\n",
        "  fdist.append(FreqDist(tokenized_word[x]))\n",
        "  print('Probability of the word \"data\" occuring in line ',x+1,' is ',fdist[x]['data']/len(fdist[x]))"
      ],
      "execution_count": 32,
      "outputs": [
        {
          "output_type": "stream",
          "text": [
            "Probability of the word \"data\" occuring in line  1  is  0.06666666666666667\n",
            "Probability of the word \"data\" occuring in line  2  is  0.0\n",
            "Probability of the word \"data\" occuring in line  3  is  0.0\n",
            "Probability of the word \"data\" occuring in line  4  is  0.07142857142857142\n",
            "Probability of the word \"data\" occuring in line  5  is  0.05555555555555555\n",
            "Probability of the word \"data\" occuring in line  6  is  0.06666666666666667\n",
            "Probability of the word \"data\" occuring in line  7  is  0.07142857142857142\n",
            "Probability of the word \"data\" occuring in line  8  is  0.0\n",
            "Probability of the word \"data\" occuring in line  9  is  0.0\n",
            "Probability of the word \"data\" occuring in line  10  is  0.0\n",
            "Probability of the word \"data\" occuring in line  11  is  0.0625\n",
            "Probability of the word \"data\" occuring in line  12  is  0.0\n",
            "Probability of the word \"data\" occuring in line  13  is  0.125\n",
            "Probability of the word \"data\" occuring in line  14  is  0.125\n",
            "Probability of the word \"data\" occuring in line  15  is  0.06666666666666667\n",
            "Probability of the word \"data\" occuring in line  16  is  0.05263157894736842\n",
            "Probability of the word \"data\" occuring in line  17  is  0.0\n",
            "Probability of the word \"data\" occuring in line  18  is  0.13333333333333333\n",
            "Probability of the word \"data\" occuring in line  19  is  0.16666666666666666\n",
            "Probability of the word \"data\" occuring in line  20  is  0.07692307692307693\n",
            "Probability of the word \"data\" occuring in line  21  is  0.0\n",
            "Probability of the word \"data\" occuring in line  22  is  0.07142857142857142\n",
            "Probability of the word \"data\" occuring in line  23  is  0.0\n"
          ],
          "name": "stdout"
        }
      ]
    },
    {
      "cell_type": "markdown",
      "metadata": {
        "id": "45Hp0LCj3G40",
        "colab_type": "text"
      },
      "source": [
        "##b. What is the distribution of distinct word counts across all the lines ?"
      ]
    },
    {
      "cell_type": "code",
      "metadata": {
        "id": "CL-Xyv9u1iJO",
        "colab_type": "code",
        "colab": {}
      },
      "source": [
        "import pandas as pd\n",
        "dist =[]\n",
        "for x in range(len(line_list)):\n",
        "  dist.append(len(set(line_list[x]))-3)"
      ],
      "execution_count": 0,
      "outputs": []
    },
    {
      "cell_type": "code",
      "metadata": {
        "id": "AZiRUJcV6l36",
        "colab_type": "code",
        "colab": {
          "base_uri": "https://localhost:8080/",
          "height": 284
        },
        "outputId": "4661d1c2-30b6-4daa-f281-659d07608d1e"
      },
      "source": [
        "# Plot the distribution\n",
        "import matplotlib.pyplot as plt\n",
        "import numpy as np\n",
        "%matplotlib inline\n",
        "df = pd.DataFrame(dist)\n",
        "plt.plot(df)"
      ],
      "execution_count": 76,
      "outputs": [
        {
          "output_type": "execute_result",
          "data": {
            "text/plain": [
              "[<matplotlib.lines.Line2D at 0x7ff3e429e588>]"
            ]
          },
          "metadata": {
            "tags": []
          },
          "execution_count": 76
        },
        {
          "output_type": "display_data",
          "data": {
            "image/png": "[encoded data removed]",
            "text/plain": [
              "<Figure size 432x288 with 1 Axes>"
            ]
          },
          "metadata": {
            "tags": []
          }
        }
      ]
    },
    {
      "cell_type": "markdown",
      "metadata": {
        "id": "hYPrkF-757Z0",
        "colab_type": "text"
      },
      "source": [
        "The plot given above shows the count of distinct words in each line."
      ]
    }
  ]
}